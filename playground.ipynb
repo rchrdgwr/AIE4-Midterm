{
 "cells": [
  {
   "cell_type": "code",
   "execution_count": 1,
   "metadata": {},
   "outputs": [
    {
     "name": "stderr",
     "output_type": "stream",
     "text": [
      "/home/rchrdgwr/anaconda3/envs/clean-llmops/lib/python3.11/site-packages/tqdm/auto.py:21: TqdmWarning: IProgress not found. Please update jupyter and ipywidgets. See https://ipywidgets.readthedocs.io/en/stable/user_install.html\n",
      "  from .autonotebook import tqdm as notebook_tqdm\n",
      "Some weights of BertModel were not initialized from the model checkpoint at rchrdgwr/finetuned-arctic-model and are newly initialized: ['pooler.dense.bias', 'pooler.dense.weight']\n",
      "You should probably TRAIN this model on a down-stream task to be able to use it for predictions and inference.\n"
     ]
    },
    {
     "data": {
      "text/plain": [
       "('./models/tokenizer_config.json',\n",
       " './models/special_tokens_map.json',\n",
       " './models/vocab.txt',\n",
       " './models/added_tokens.json',\n",
       " './models/tokenizer.json')"
      ]
     },
     "execution_count": 1,
     "metadata": {},
     "output_type": "execute_result"
    }
   ],
   "source": [
    "# download the fine tuned model\n",
    "\n",
    "from transformers import AutoModel, AutoTokenizer\n",
    "\n",
    "hf_username = \"rchrdgwr\"\n",
    "hf_repo_name = \"finetuned-arctic-model\"\n",
    "\n",
    "# Download and save the model locally\n",
    "model_name = f\"{hf_username}/{hf_repo_name}\"\n",
    "local_model_dir = \"./model_snowflake_finetuned\"  # Specify the directory where the model will be saved\n",
    "\n",
    "# Download model and tokenizer\n",
    "model = AutoModel.from_pretrained(model_name)\n",
    "tokenizer = AutoTokenizer.from_pretrained(model_name)\n",
    "\n",
    "# Save them locally\n",
    "model.save_pretrained(local_model_dir)\n",
    "tokenizer.save_pretrained(local_model_dir)"
   ]
  },
  {
   "cell_type": "code",
   "execution_count": 2,
   "metadata": {},
   "outputs": [
    {
     "name": "stderr",
     "output_type": "stream",
     "text": [
      "Some weights of BertModel were not initialized from the model checkpoint at rchrdgwr/finetuned-arctic-model-2 and are newly initialized: ['pooler.dense.bias', 'pooler.dense.weight']\n",
      "You should probably TRAIN this model on a down-stream task to be able to use it for predictions and inference.\n"
     ]
    },
    {
     "data": {
      "text/plain": [
       "('./model_snowflake_finetuned_2/tokenizer_config.json',\n",
       " './model_snowflake_finetuned_2/special_tokens_map.json',\n",
       " './model_snowflake_finetuned_2/vocab.txt',\n",
       " './model_snowflake_finetuned_2/added_tokens.json',\n",
       " './model_snowflake_finetuned_2/tokenizer.json')"
      ]
     },
     "execution_count": 2,
     "metadata": {},
     "output_type": "execute_result"
    }
   ],
   "source": [
    "# download the fine tuned model\n",
    "\n",
    "from transformers import AutoModel, AutoTokenizer\n",
    "\n",
    "hf_username = \"rchrdgwr\"\n",
    "hf_repo_name = \"finetuned-arctic-model-2\"\n",
    "\n",
    "# Download and save the model locally\n",
    "model_name = f\"{hf_username}/{hf_repo_name}\"\n",
    "local_model_dir = \"./model_snowflake_finetuned_2\"  # Specify the directory where the model will be saved\n",
    "\n",
    "# Download model and tokenizer\n",
    "model = AutoModel.from_pretrained(model_name)\n",
    "tokenizer = AutoTokenizer.from_pretrained(model_name)\n",
    "\n",
    "# Save them locally\n",
    "model.save_pretrained(local_model_dir)\n",
    "tokenizer.save_pretrained(local_model_dir)"
   ]
  }
 ],
 "metadata": {
  "kernelspec": {
   "display_name": "clean-llmops",
   "language": "python",
   "name": "python3"
  },
  "language_info": {
   "codemirror_mode": {
    "name": "ipython",
    "version": 3
   },
   "file_extension": ".py",
   "mimetype": "text/x-python",
   "name": "python",
   "nbconvert_exporter": "python",
   "pygments_lexer": "ipython3",
   "version": "3.11.9"
  }
 },
 "nbformat": 4,
 "nbformat_minor": 2
}
